{
 "cells": [
  {
   "cell_type": "markdown",
   "id": "35aa6f1a-0779-4130-8496-ede89eaa4e74",
   "metadata": {},
   "source": [
    "**DSCI 100 006 Group 38 Proposal**"
   ]
  },
  {
   "cell_type": "markdown",
   "id": "908aae7b-f776-42de-ab0f-34b5bb2a95b2",
   "metadata": {},
   "source": [
    "**Title**: Predicting the likelihood of heart disease within a patient using 5 different factors.\n",
    "\n",
    "**Introduction:**\n",
    "\n",
    "The background information on the topic:\n",
    "The dataset that we will be using for this project is one related to heart disease and the factors that contribute towards it. Different factors such as blood pressure, cholesterol and even age can have great impacts on the risk of contracting heart disease and so this data set provides past details of patients with attributes they had and whether or not they were healthy or not.\n",
    "\n",
    "The question we will try to answer with our project:\n",
    "The question that we will be addressing for our group project is, how do the age, sex, cholesterol, max heart rate, and resting blood pressure factors affect the likelihood of developing heart disease?\n",
    "\n",
    "The dataset that we will use to answer the question:\n",
    "Using a dataset found at this link, https://archive.ics.uci.edu/ml/machine-learning-databases/heart-disease/, the data from the Cleveland dataset will be used. The original dataset contains 76 factors, however, the processed data, which is what will be used in our project, contains the following 14 factors:\n",
    "Age, sex, chest pain type, resting blood pressure, cholesterol, fasting blood sugar, resting ECG, max heart rate, exercise-induced angina, oldpeak, slope, number of vessels coloured, thalassemia and the predicting class for if the patient is healthy or with heart-disease\n",
    "\n",
    "\n",
    "**Preliminary exploratory data analysis:**\n",
    "\n",
    "Demonstrate that the dataset can be read from the web into R \n",
    "Clean and wrangle your data into a tidy format\n",
    "Using only training data, summarize the data in at least one table (this is exploratory data analysis). An example of a useful table could be one that reports the number of observations in each class, the means of the predictor variables you plan to use in your analysis and how many rows have missing data. \n",
    "Using only training data, visualize the data with at least one plot relevant to the analysis you plan to do (this is exploratory data analysis). An example of a useful visualization could be one that compares the distributions of each of the predictor variables you plan to use in your analysis.\n",
    "\n",
    "**Methods:**\n",
    "\n",
    "Explain how you will conduct either your data analysis and which variables/columns you will use. Note - you do not need to use all variables/columns that exist in the raw data set. In fact, that's often not a good idea. For each variable think: is this a useful variable for prediction?\n",
    "Describe at least one way that you will visualize the results\n",
    "\n",
    "**Expected outcomes and significance:**\n",
    "\n",
    "What do you expect to find?\n",
    "What impact could such findings have?\n",
    "What future questions could this lead to?"
   ]
  }
 ],
 "metadata": {
  "kernelspec": {
   "display_name": "R",
   "language": "R",
   "name": "ir"
  },
  "language_info": {
   "codemirror_mode": "r",
   "file_extension": ".r",
   "mimetype": "text/x-r-source",
   "name": "R",
   "pygments_lexer": "r",
   "version": "4.1.3"
  }
 },
 "nbformat": 4,
 "nbformat_minor": 5
}
