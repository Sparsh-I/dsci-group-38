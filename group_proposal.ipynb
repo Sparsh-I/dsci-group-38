{
 "cells": [
  {
   "cell_type": "markdown",
   "id": "35aa6f1a-0779-4130-8496-ede89eaa4e74",
   "metadata": {},
   "source": [
    "**DSCI 100 006 Group 38 Proposal**"
   ]
  },
  {
   "cell_type": "markdown",
   "id": "908aae7b-f776-42de-ab0f-34b5bb2a95b2",
   "metadata": {},
   "source": [
    "**Title**: Predicting the likelihood of heart disease within a patient using 5 different factors.\n",
    "\n",
    "**Introduction:**\n",
    "\n",
    "The background information on the topic:\n",
    "The dataset that we will be using for this project is one related to heart disease and the factors that contribute towards it. Different factors such as blood pressure, cholesterol and even age can have great impacts on the risk of contracting heart disease and so this data set provides past details of patients with attributes they had and whether or not they were healthy or not.\n",
    "\n",
    "The question we will try to answer with our project:\n",
    "The question that we will be addressing for our group project is, how do the age, sex, cholesterol, max heart rate, and resting blood pressure factors affect the likelihood of developing heart disease?\n",
    "\n",
    "The dataset that we will use to answer the question:\n",
    "Using a dataset found at this link, https://archive.ics.uci.edu/ml/machine-learning-databases/heart-disease/, the data from the Cleveland dataset will be used. The original dataset contains 76 factors, however, the processed data, which is what will be used in our project, contains the following 14 factors:\n",
    "Age, sex, chest pain type, resting blood pressure, cholesterol, fasting blood sugar, resting ECG, max heart rate, exercise-induced angina, oldpeak, slope, number of vessels coloured, thalassemia and the predicting class for if the patient is healthy or with heart-disease. We will further filter this data to be the 5 factors that we will be examining."
   ]
  },
  {
   "cell_type": "markdown",
   "id": "c36a8892-23ee-469c-8a2c-09020483ad35",
   "metadata": {},
   "source": [
    "**Preliminary exploratory data analysis:**\n",
    "\n",
    "Demonstrate that the dataset can be read from the web into R \n",
    "<br>Clean and wrangle your data into a tidy format\n",
    "<br>Using only training data, summarize the data in at least one table (this is exploratory data analysis). \n",
    " - An example of a useful table could be one that reports the number of observations in each class, the means of the predictor variables you plan to use in your analysis and how many rows have missing data. \n",
    "\n",
    "<br>Using only training data, visualize the data with at least one plot relevant to the analysis you plan to do (this is exploratory data analysis).\n",
    "- An example of a useful visualization could be one that compares the distributions of each of the predictor variables you plan to use in your analysis."
   ]
  },
  {
   "cell_type": "code",
   "execution_count": 3,
   "id": "4a4b66ca-fa2a-4efa-9697-e7f5b353b4f6",
   "metadata": {},
   "outputs": [
    {
     "name": "stderr",
     "output_type": "stream",
     "text": [
      "── \u001b[1mAttaching packages\u001b[22m ─────────────────────────────────────── tidyverse 1.3.1 ──\n",
      "\n",
      "\u001b[32m✔\u001b[39m \u001b[34mggplot2\u001b[39m 3.3.6     \u001b[32m✔\u001b[39m \u001b[34mpurrr  \u001b[39m 0.3.4\n",
      "\u001b[32m✔\u001b[39m \u001b[34mtibble \u001b[39m 3.1.7     \u001b[32m✔\u001b[39m \u001b[34mdplyr  \u001b[39m 1.0.9\n",
      "\u001b[32m✔\u001b[39m \u001b[34mtidyr  \u001b[39m 1.2.0     \u001b[32m✔\u001b[39m \u001b[34mstringr\u001b[39m 1.4.0\n",
      "\u001b[32m✔\u001b[39m \u001b[34mreadr  \u001b[39m 2.1.2     \u001b[32m✔\u001b[39m \u001b[34mforcats\u001b[39m 0.5.1\n",
      "\n",
      "── \u001b[1mConflicts\u001b[22m ────────────────────────────────────────── tidyverse_conflicts() ──\n",
      "\u001b[31m✖\u001b[39m \u001b[34mdplyr\u001b[39m::\u001b[32mfilter()\u001b[39m masks \u001b[34mstats\u001b[39m::filter()\n",
      "\u001b[31m✖\u001b[39m \u001b[34mdplyr\u001b[39m::\u001b[32mlag()\u001b[39m    masks \u001b[34mstats\u001b[39m::lag()\n",
      "\n",
      "── \u001b[1mAttaching packages\u001b[22m ────────────────────────────────────── tidymodels 1.0.0 ──\n",
      "\n",
      "\u001b[32m✔\u001b[39m \u001b[34mbroom       \u001b[39m 1.0.0     \u001b[32m✔\u001b[39m \u001b[34mrsample     \u001b[39m 1.0.0\n",
      "\u001b[32m✔\u001b[39m \u001b[34mdials       \u001b[39m 1.0.0     \u001b[32m✔\u001b[39m \u001b[34mtune        \u001b[39m 1.0.0\n",
      "\u001b[32m✔\u001b[39m \u001b[34minfer       \u001b[39m 1.0.2     \u001b[32m✔\u001b[39m \u001b[34mworkflows   \u001b[39m 1.0.0\n",
      "\u001b[32m✔\u001b[39m \u001b[34mmodeldata   \u001b[39m 1.0.0     \u001b[32m✔\u001b[39m \u001b[34mworkflowsets\u001b[39m 1.0.0\n",
      "\u001b[32m✔\u001b[39m \u001b[34mparsnip     \u001b[39m 1.0.0     \u001b[32m✔\u001b[39m \u001b[34myardstick   \u001b[39m 1.0.0\n",
      "\u001b[32m✔\u001b[39m \u001b[34mrecipes     \u001b[39m 1.0.1     \n",
      "\n",
      "── \u001b[1mConflicts\u001b[22m ───────────────────────────────────────── tidymodels_conflicts() ──\n",
      "\u001b[31m✖\u001b[39m \u001b[34mscales\u001b[39m::\u001b[32mdiscard()\u001b[39m masks \u001b[34mpurrr\u001b[39m::discard()\n",
      "\u001b[31m✖\u001b[39m \u001b[34mdplyr\u001b[39m::\u001b[32mfilter()\u001b[39m   masks \u001b[34mstats\u001b[39m::filter()\n",
      "\u001b[31m✖\u001b[39m \u001b[34mrecipes\u001b[39m::\u001b[32mfixed()\u001b[39m  masks \u001b[34mstringr\u001b[39m::fixed()\n",
      "\u001b[31m✖\u001b[39m \u001b[34mdplyr\u001b[39m::\u001b[32mlag()\u001b[39m      masks \u001b[34mstats\u001b[39m::lag()\n",
      "\u001b[31m✖\u001b[39m \u001b[34myardstick\u001b[39m::\u001b[32mspec()\u001b[39m masks \u001b[34mreadr\u001b[39m::spec()\n",
      "\u001b[31m✖\u001b[39m \u001b[34mrecipes\u001b[39m::\u001b[32mstep()\u001b[39m   masks \u001b[34mstats\u001b[39m::step()\n",
      "\u001b[34m•\u001b[39m Use \u001b[32mtidymodels_prefer()\u001b[39m to resolve common conflicts.\n",
      "\n"
     ]
    }
   ],
   "source": [
    "library(tidyverse)\n",
    "library(repr)\n",
    "library(tidymodels)\n",
    "options(repr.matrix.max.rows = 6)"
   ]
  },
  {
   "cell_type": "code",
   "execution_count": 8,
   "id": "32bb0c9b-05bc-4284-8f4e-5b036a21f6c4",
   "metadata": {},
   "outputs": [
    {
     "name": "stderr",
     "output_type": "stream",
     "text": [
      "\u001b[1mRows: \u001b[22m\u001b[34m303\u001b[39m \u001b[1mColumns: \u001b[22m\u001b[34m14\u001b[39m\n",
      "\u001b[36m──\u001b[39m \u001b[1mColumn specification\u001b[22m \u001b[36m────────────────────────────────────────────────────────\u001b[39m\n",
      "\u001b[1mDelimiter:\u001b[22m \",\"\n",
      "\u001b[31mchr\u001b[39m  (2): X12, X13\n",
      "\u001b[32mdbl\u001b[39m (12): X1, X2, X3, X4, X5, X6, X7, X8, X9, X10, X11, X14\n",
      "\n",
      "\u001b[36mℹ\u001b[39m Use `spec()` to retrieve the full column specification for this data.\n",
      "\u001b[36mℹ\u001b[39m Specify the column types or set `show_col_types = FALSE` to quiet this message.\n"
     ]
    },
    {
     "data": {
      "text/html": [
       "<table class=\"dataframe\">\n",
       "<caption>A tibble: 303 × 6</caption>\n",
       "<thead>\n",
       "\t<tr><th scope=col>age</th><th scope=col>sex</th><th scope=col>restbps</th><th scope=col>cholesterol</th><th scope=col>maxbpm</th><th scope=col>health</th></tr>\n",
       "\t<tr><th scope=col>&lt;dbl&gt;</th><th scope=col>&lt;dbl&gt;</th><th scope=col>&lt;dbl&gt;</th><th scope=col>&lt;dbl&gt;</th><th scope=col>&lt;dbl&gt;</th><th scope=col>&lt;dbl&gt;</th></tr>\n",
       "</thead>\n",
       "<tbody>\n",
       "\t<tr><td>63</td><td>1</td><td>145</td><td>233</td><td>150</td><td>0</td></tr>\n",
       "\t<tr><td>67</td><td>1</td><td>160</td><td>286</td><td>108</td><td>2</td></tr>\n",
       "\t<tr><td>67</td><td>1</td><td>120</td><td>229</td><td>129</td><td>1</td></tr>\n",
       "\t<tr><td>⋮</td><td>⋮</td><td>⋮</td><td>⋮</td><td>⋮</td><td>⋮</td></tr>\n",
       "\t<tr><td>57</td><td>1</td><td>130</td><td>131</td><td>115</td><td>3</td></tr>\n",
       "\t<tr><td>57</td><td>0</td><td>130</td><td>236</td><td>174</td><td>1</td></tr>\n",
       "\t<tr><td>38</td><td>1</td><td>138</td><td>175</td><td>173</td><td>0</td></tr>\n",
       "</tbody>\n",
       "</table>\n"
      ],
      "text/latex": [
       "A tibble: 303 × 6\n",
       "\\begin{tabular}{llllll}\n",
       " age & sex & restbps & cholesterol & maxbpm & health\\\\\n",
       " <dbl> & <dbl> & <dbl> & <dbl> & <dbl> & <dbl>\\\\\n",
       "\\hline\n",
       "\t 63 & 1 & 145 & 233 & 150 & 0\\\\\n",
       "\t 67 & 1 & 160 & 286 & 108 & 2\\\\\n",
       "\t 67 & 1 & 120 & 229 & 129 & 1\\\\\n",
       "\t ⋮ & ⋮ & ⋮ & ⋮ & ⋮ & ⋮\\\\\n",
       "\t 57 & 1 & 130 & 131 & 115 & 3\\\\\n",
       "\t 57 & 0 & 130 & 236 & 174 & 1\\\\\n",
       "\t 38 & 1 & 138 & 175 & 173 & 0\\\\\n",
       "\\end{tabular}\n"
      ],
      "text/markdown": [
       "\n",
       "A tibble: 303 × 6\n",
       "\n",
       "| age &lt;dbl&gt; | sex &lt;dbl&gt; | restbps &lt;dbl&gt; | cholesterol &lt;dbl&gt; | maxbpm &lt;dbl&gt; | health &lt;dbl&gt; |\n",
       "|---|---|---|---|---|---|\n",
       "| 63 | 1 | 145 | 233 | 150 | 0 |\n",
       "| 67 | 1 | 160 | 286 | 108 | 2 |\n",
       "| 67 | 1 | 120 | 229 | 129 | 1 |\n",
       "| ⋮ | ⋮ | ⋮ | ⋮ | ⋮ | ⋮ |\n",
       "| 57 | 1 | 130 | 131 | 115 | 3 |\n",
       "| 57 | 0 | 130 | 236 | 174 | 1 |\n",
       "| 38 | 1 | 138 | 175 | 173 | 0 |\n",
       "\n"
      ],
      "text/plain": [
       "    age sex restbps cholesterol maxbpm health\n",
       "1   63  1   145     233         150    0     \n",
       "2   67  1   160     286         108    2     \n",
       "3   67  1   120     229         129    1     \n",
       "⋮   ⋮   ⋮   ⋮       ⋮           ⋮      ⋮     \n",
       "301 57  1   130     131         115    3     \n",
       "302 57  0   130     236         174    1     \n",
       "303 38  1   138     175         173    0     "
      ]
     },
     "metadata": {},
     "output_type": "display_data"
    }
   ],
   "source": [
    "heart_data<- read_csv(url(\"https://archive.ics.uci.edu/ml/machine-learning-databases/heart-disease/processed.cleveland.data\"), col_names = FALSE) |>\n",
    "    select(X1, X2, X4, X5, X8, X14)\n",
    "colnames(heart_data) <- make.names(c(\"age\", \"sex\", \"restbps\", \"cholesterol\", \"maxbpm\", \"health\"))\n",
    "heart_data"
   ]
  },
  {
   "cell_type": "markdown",
   "id": "7dbae82f-2cfe-4556-a6aa-73b45fdf2847",
   "metadata": {},
   "source": [
    "**Methods:**\n",
    "\n",
    "Explain how you will conduct either your data analysis and which variables/columns you will use. Note - you do not need to use all variables/columns that exist in the raw data set. In fact, that's often not a good idea. For each variable think: is this a useful variable for prediction?\n",
    "Describe at least one way that you will visualize the results\n",
    "\n",
    "In order to conduct data analysis on the dataset we have retrieved we will make several visualisations to clearly see the relationship two variables have on each other, if it even exists. To be more specific we could make a scatterplot visualisation, with the cholesterol on the x-axis and blood pressure on the y-axis, and then colour the points based on whether the patient was deemed healthy (0) or sick (1, 2 or 3).\n",
    "\n",
    "Another potential visualisation\n",
    "\n",
    "Make scatter plots according to the factors:\n",
    "Use the likelihood of heart disease as the vertical axis and ages(cholesterol, max heart rate, and resting blood pressure) in the horizontal axis, color the point by sex.\n",
    "Find the relationship between the factors and likelihood of heart disease"
   ]
  },
  {
   "cell_type": "markdown",
   "id": "1a3142f4-59b6-45b1-b5cc-4a2d8d47e9bb",
   "metadata": {},
   "source": [
    "**Expected outcomes and significance:**\n",
    "\n",
    "What do you expect to find?\n",
    "What impact could such findings have?\n",
    "What future questions could this lead to?"
   ]
  }
 ],
 "metadata": {
  "kernelspec": {
   "display_name": "R",
   "language": "R",
   "name": "ir"
  },
  "language_info": {
   "codemirror_mode": "r",
   "file_extension": ".r",
   "mimetype": "text/x-r-source",
   "name": "R",
   "pygments_lexer": "r",
   "version": "4.1.3"
  }
 },
 "nbformat": 4,
 "nbformat_minor": 5
}
