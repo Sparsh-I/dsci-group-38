{
 "cells": [
  {
   "cell_type": "markdown",
   "id": "ffa861de-cb50-45c3-956f-7fdb6730e04b",
   "metadata": {},
   "source": [
    "(THIS IS A TEST COMMIT)\n",
    "This will be where we write our group proposal"
   ]
  },
  {
   "cell_type": "code",
   "execution_count": null,
   "id": "a7923af9-7510-429d-a221-557fdeb59f0e",
   "metadata": {},
   "outputs": [],
   "source": []
  }
 ],
 "metadata": {
  "kernelspec": {
   "display_name": "R",
   "language": "R",
   "name": "ir"
  },
  "language_info": {
   "codemirror_mode": "r",
   "file_extension": ".r",
   "mimetype": "text/x-r-source",
   "name": "R",
   "pygments_lexer": "r",
   "version": "4.1.3"
  }
 },
 "nbformat": 4,
 "nbformat_minor": 5
}
