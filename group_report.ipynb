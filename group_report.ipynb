{
 "cells": [
  {
   "cell_type": "markdown",
   "id": "a81edae7-a350-465d-9376-bb9e3df3d734",
   "metadata": {},
   "source": [
    "# Assessing the Likelihood of Contracting Heart Disease Based on 6 Health Factors"
   ]
  },
  {
   "cell_type": "markdown",
   "id": "828d09de-f7a8-4d37-a06f-d5c9448d0e9a",
   "metadata": {
    "tags": []
   },
   "source": [
    "## 1. Introduction"
   ]
  },
  {
   "cell_type": "markdown",
   "id": "9f0620f8-52da-49e0-af01-895951683119",
   "metadata": {
    "tags": []
   },
   "source": [
    "### 1.1 Inference Question:\n",
    "How is the likelihood of contracting heart disease impacted by, age, sex, max heart rate, cholesterol levels, resting blood pressure, and chest pain type?\n",
    "\n",
    "### 1.2 Background\n",
    "For nearly a century, heart disease has claimed the many lives of men and women alike, and men are more likely to get it than women(Fallon, 2019). Besides, as the population ages, an increasing number of people are suffering from heart disease (Kodali et al., 2018). Thus, we believe that the risk of heart disease is related to gender and age and may also be related to other factors.\n",
    "\n",
    "### 1.3 The Heart Disease Dataset\n",
    "The dataset that we will be using for this project is one related to heart disease and the factors that contribute to it. The link to this dataset is included below, but in this project, we will be reading the data directly from the web, so there is no need to have the file saved locally.\n",
    "\n",
    "https://archive.ics.uci.edu/ml/machine-learning-databases/heart-disease/\n",
    "\n",
    "From the above link, the Cleveland dataset will be used which contains 76 factors, however, the processed data, contains 14 factors. We will further filter this data to be the 6 factors that we will be examining, which are listed below.\n",
    "\n",
    "#### The Health Factors:\n",
    "- age \n",
    "- sex \n",
    "- pain.type -> type of pain experienced by patient (angina, abnormal angina, not angina, or asymptomatic)\n",
    "- restbps -> resting blood pressure of the patient\n",
    "- cholesterol\n",
    "- maxbpm -> maximum heart rate of the patient\n",
    "\n",
    "We have chosen these specific factors for our analysis, as these are the factors we think would have the greatest influence on whether or not a patient potentially has heart disease. We also would like to investigate that heart disease would affect women more than men, and thus have included the sex variable, to see if this hypothesis holds true. \n",
    "\n",
    "The factors that were omitted were due to redundancy or their uncertain nature, in terms of measurement units and missing data. One predictor, resting ECG, which measures the electrical activity in the heart was considered, however, we deemed that the resting blood pressure would be a better indicator of heart activity.\n",
    "______________________________________________________________________________________________________________________________________________________"
   ]
  },
  {
   "cell_type": "markdown",
   "id": "c9d9c5d0-33b9-4559-8480-29ee63972e65",
   "metadata": {
    "tags": []
   },
   "source": [
    "## 2. Wrangling the Data"
   ]
  },
  {
   "cell_type": "markdown",
   "id": "91899408-99b9-442b-aa47-5508b26c1fdc",
   "metadata": {
    "tags": []
   },
   "source": [
    "### 2.1 Loading Tidyverse\n",
    "First, we need to load the tidyverse library into R so that it is possible to wrangle the data and only select the factors that we will be making use of in this project."
   ]
  },
  {
   "cell_type": "code",
   "execution_count": 13,
   "id": "5cc12e4d-1878-4a0a-a954-462495ecde9c",
   "metadata": {},
   "outputs": [
    {
     "ename": "ERROR",
     "evalue": "Error in library(tidymodels): there is no package called ‘tidymodels’\n",
     "output_type": "error",
     "traceback": [
      "Error in library(tidymodels): there is no package called ‘tidymodels’\nTraceback:\n",
      "1. library(tidymodels)"
     ]
    }
   ],
   "source": [
    "library(tidyverse)\n",
    "library(repr)\n",
    "library(tidymodels)\n",
    "options(repr.matrix.max.rows = 6)"
   ]
  },
  {
   "cell_type": "markdown",
   "id": "bbe5d6eb-1982-40e8-a886-22eecc80fbc3",
   "metadata": {
    "tags": []
   },
   "source": [
    "### 2.2 Reading and Selecting the Data\n",
    "We can make use of the `read_csv` function to extract the data from the web, and since there are no column names in the dataset, we will have to set `col_names = FALSE` and make a vector with the desired column names.\n",
    "\n",
    "The dataset classifies sick patients into three different categories, however for this analysis, we will make use of a binary and therefore consider all sick patients as one category, and so we set the `health` column's values 2, 3, and 4, to 1 which signifies contracted-heart-disease, while 0 signifies a healthy patient. Finally, we will convert the health column to be a factor variable rather than double, as this will be needed when classifying data."
   ]
  },
  {
   "cell_type": "code",
   "execution_count": null,
   "id": "76b6e8f3-099b-4897-84a0-26cc43ec05bb",
   "metadata": {},
   "outputs": [],
   "source": [
    "heart_data<- read_csv(url(\"https://archive.ics.uci.edu/ml/machine-learning-databases/heart-disease/processed.cleveland.data\"), col_names = FALSE) |>\n",
    "    select(X1, X2, X3, X4, X5, X8, X14)\n",
    "colnames(heart_data) <- make.names(c(\"age\", \"sex\", \"pain.type\", \"restbps\", \"cholesterol\", \"maxbpm\", \"health\"))\n",
    "\n",
    "heart_data[\"health\"][heart_data[\"health\"] == 2 | heart_data[\"health\"] == 3 | heart_data[\"health\"] == 4] <- 1\n",
    "heart_data$health <- as_factor(heart_data$health) \n",
    "\n",
    "heart_data"
   ]
  },
  {
   "cell_type": "markdown",
   "id": "7ca80ddc-7eb2-4690-a83e-c2ad967f2979",
   "metadata": {},
   "source": [
    "We have also decided to check the distribution of patients in terms of sickness to make sure it is balanced, as well as provide a summary of the factors we will be addressing."
   ]
  },
  {
   "cell_type": "code",
   "execution_count": null,
   "id": "b1c7d655-2054-4239-9a06-17957c4554ac",
   "metadata": {},
   "outputs": [],
   "source": [
    "health_freq <- table(heart_data$health)\n",
    "rownames(health_freq) = c(\"Healthy\", \"Sick\")\n",
    "\"# of Patients with and without Heart Disease\"\n",
    "health_freq"
   ]
  },
  {
   "cell_type": "code",
   "execution_count": null,
   "id": "2abd217e-5893-40c7-8423-b8af915855a9",
   "metadata": {},
   "outputs": [],
   "source": [
    "summary(heart_data$age)\n",
    "summary(heart_data$maxbpm)\n",
    "summary(heart_data$restbps)\n",
    "summary(heart_data$cholesterol)\n",
    "summary(heart_data$maxbpm)\n",
    "table(heart_data$sex)\n",
    "table(heart_data$pain.type)"
   ]
  },
  {
   "cell_type": "markdown",
   "id": "4a540eee-f579-4828-9406-e04ec1a91fc7",
   "metadata": {},
   "source": [
    "______________________________________________________________________________________________________________________________________________________"
   ]
  },
  {
   "cell_type": "markdown",
   "id": "2bd9a996-620e-4ecf-a9cc-fd04202191c1",
   "metadata": {
    "jp-MarkdownHeadingCollapsed": true,
    "tags": []
   },
   "source": [
    "## 3. Analysis of Data"
   ]
  },
  {
   "cell_type": "markdown",
   "id": "c06578c0-3f66-4843-a76f-e6df2e538fb3",
   "metadata": {},
   "source": [
    "### 3.1 Splitting the Dataset into Training and Testing Data\n",
    "We have chosen to select 75% of the data to be in the training data, while the other 25% will be used as testing data later on. We have also selected a seed to use, so that the results are reproducible in the future."
   ]
  },
  {
   "cell_type": "code",
   "execution_count": null,
   "id": "a7f4b5d1-63c5-4623-be19-b4f81eecc099",
   "metadata": {},
   "outputs": [],
   "source": [
    "set.seed(29) # do not change [use this seed throughout]\n",
    "\n",
    "heart_data_split <- initial_split(heart_data, prop = 0.75, strata = health)\n",
    "heart_data_training <- training(heart_data_split)\n",
    "heart_data_testing <- testing(heart_data_split)"
   ]
  },
  {
   "cell_type": "markdown",
   "id": "e2d2176f-5f24-4d01-af0d-f59d07bf9fac",
   "metadata": {},
   "source": [
    "### 3.2 Age and Heart Disease\n",
    "To initially get a grasp on the dataset itself and what we will be conducting an analysis on, we have decided to plot a histogram showing the differing ages, and at what age range is a patient most likely to develop heart disease. This will also provide a good idea of where the majority of the population lies."
   ]
  },
  {
   "cell_type": "code",
   "execution_count": null,
   "id": "10654372-ce5d-4383-92f0-0cf9f9df9e73",
   "metadata": {},
   "outputs": [],
   "source": [
    "ages_and_heart_disease_plot <- heart_data_training |>\n",
    "    ggplot(aes(x = age, fill = as_factor(health))) +\n",
    "    geom_histogram() +\n",
    "    labs(title = \"Plot of Ages and Heart Disease\", x = \"Age\", fill = \"Health\") +\n",
    "    scale_fill_discrete(labels = c(\"Healthy\", \"Sick\")) +\n",
    "    theme(text = element_text(size = 15), plot.title = element_text(hjust = 0.5))\n",
    "ages_and_heart_disease_plot"
   ]
  },
  {
   "cell_type": "markdown",
   "id": "d1d1fe20-8edb-40c1-b5d9-560132f5365d",
   "metadata": {},
   "source": [
    "We are able to see that the at-risk age range to contract heart disease seems to be around 60 years old. It is noted that although this age is where the number of sick patients peaks, it is also seen that a larger percentage of the population at this age, is healthy."
   ]
  },
  {
   "cell_type": "markdown",
   "id": "d2280625-eb2a-44b8-aa80-ad1a14439cb8",
   "metadata": {},
   "source": [
    "### 3.3 Sex and Heart Disease\n",
    "We would also like to explore if there is any immediate correlation between the sex of the patient and the likelihood that they contract heart disease. To visualise this we will be making use of a histogram and the `facet_grid` function to be able to split the male and female plots. we can also `filter` the plots and calculate the percentage of sick male and female patients."
   ]
  },
  {
   "cell_type": "code",
   "execution_count": null,
   "id": "4742ca1f-fd47-4aa8-9e26-eebafa05c9d5",
   "metadata": {},
   "outputs": [],
   "source": [
    "sex_and_heart_disease_plot <- heart_data_training |>\n",
    "    ggplot(aes(x = age, fill = as_factor(health))) +\n",
    "    geom_histogram() +\n",
    "    facet_grid(rows = vars(sex)) +\n",
    "    labs(title = \"Plot of The Relationship Between the Sex of \\n a Patient and Likelihood \\n of Contracting Heart Disease\", x = \"Age\", fill = \"Health\") +\n",
    "    scale_fill_discrete(labels = c(\"Healthy\", \"Sick\")) +\n",
    "    theme(text = element_text(size = 15), plot.title = element_text(hjust = 0.5))\n",
    "\n",
    "sex_and_heart_disease_plot"
   ]
  },
  {
   "cell_type": "code",
   "execution_count": null,
   "id": "921d3282-932f-4191-a33a-bf1281f279bf",
   "metadata": {},
   "outputs": [],
   "source": [
    "male_total <- heart_data_training |>\n",
    "    filter(sex == 1) |>\n",
    "    nrow()\n",
    "\n",
    "male_sick <- heart_data_training |>\n",
    "    filter(sex == 1) |>\n",
    "    filter(health == 1) |>\n",
    "    nrow()\n",
    "\n",
    "male_ratio <- (male_sick / male_total)\n",
    "\n",
    "female_total <- heart_data_training |>\n",
    "    filter(sex == 0) |>\n",
    "    nrow()\n",
    "\n",
    "female_sick <- heart_data_training |>\n",
    "    filter(sex == 0) |>\n",
    "    filter(health == 1) |>\n",
    "    nrow()\n",
    "\n",
    "female_ratio <- (female_sick / female_total)\n",
    "\n",
    "\n",
    "print('Proportion of males that are sick: ')\n",
    "print(male_ratio)\n",
    "print('Proportion of females that are sick: ')\n",
    "print(female_ratio)"
   ]
  },
  {
   "cell_type": "markdown",
   "id": "a2469dba-d244-4bb0-8e38-a1eef719e03f",
   "metadata": {},
   "source": [
    "From the plot above we can see that the male population [1], is far greater than the female population [0], and approximately 56% of the males have contracted heart disease, while the proportion of female patients that contracted a heart disease was less than half at around 26%."
   ]
  },
  {
   "cell_type": "markdown",
   "id": "f80fc09e-44ed-4824-92af-5635d17275b7",
   "metadata": {},
   "source": [
    "### 3.4 Chest Pain and Heart Disease\n",
    "The first correlation we would like to explore is that between chest pain and heart disease. To visualise this, we will make use of a histogram, as well as a facet grid that encompasses the 4 different types of chest pains that were recorded in this dataset, which will essentially split the plot above into 4 different plots. To refresh, these chest pain types are angina [1], abnormal angina [2], not angina [3], or asymptomatic [4]. "
   ]
  },
  {
   "cell_type": "code",
   "execution_count": null,
   "id": "db0ac82a-c9d3-4373-aa7b-da222d81fc20",
   "metadata": {},
   "outputs": [],
   "source": [
    "likelihood_of_heart_disease_plot <- heart_data_training |>\n",
    "    ggplot(aes(x = age, fill = as_factor(health))) +\n",
    "    geom_histogram() +\n",
    "    facet_grid(rows = vars(pain.type)) +\n",
    "    labs(title = \"Plot of What Chest Pain Shows \\n Likelihood of Developing Heart Disease, \\n and How it Relates to Age\", x = \"Age\", fill = \"Health\") +\n",
    "    scale_fill_discrete(labels = c(\"Healthy\", \"Sick\")) +\n",
    "    theme(text = element_text(size = 15), plot.title = element_text(hjust = 0.5))\n",
    "\n",
    "likelihood_of_heart_disease_plot"
   ]
  },
  {
   "cell_type": "markdown",
   "id": "08a5e0cc-7687-4af5-9d72-9e2c0f4813bf",
   "metadata": {},
   "source": [
    "From the visualisation above, it is clear to see that the vast majority of patients, in general, are in category 4, which is asymptomatic. Additionally, this is where the largest proportion of the sick population is as well, however, this is not to say that the other chest pains have no sick patients."
   ]
  },
  {
   "cell_type": "markdown",
   "id": "5e5be6e7-435c-429d-8e02-cb5be24f30e0",
   "metadata": {},
   "source": [
    "### 3.5 Max Heart Rate and Heart Disease\n",
    "The max heart rate of a patient will generally decrease as they get older, and we chose to investigate this variable as the lower max heart rate, means that less energy news to be exerted for the heart to overwork itself, possibly resulting in heart injuries and maybe even disease. To visualise a relationship, we will plot the data on a scatterplot, with age on the x-axis and max heart rate on the y-axis and colour the points based on the patient’s health."
   ]
  },
  {
   "cell_type": "code",
   "execution_count": null,
   "id": "bbe59b40-1d91-42d2-9943-594148195617",
   "metadata": {},
   "outputs": [],
   "source": [
    "age_and_max_heart_rate_plot <- heart_data_training |>\n",
    "    ggplot(aes(x = age, y = maxbpm, colour = as_factor(health))) +\n",
    "    geom_point() +\n",
    "    labs(title = \"Plot of Age and Max Heart Rate\", x = \"Age\", y = \"Max Heart Rate (bpm)\", colour = \"Health\") +\n",
    "    scale_colour_discrete(labels = c(\"Healthy\", \"Sick\")) +\n",
    "    theme(text = element_text(size = 15), plot.title = element_text(hjust = 0.5))\n",
    "age_and_max_heart_rate_plot"
   ]
  },
  {
   "cell_type": "markdown",
   "id": "016dd576-67a7-465d-b0c9-e6162fbc17f8",
   "metadata": {},
   "source": [
    "From the diagram above, the expected downward trend of the points is seen, as with increasing age, the peak heart rate will decrease. We can also see that the bulk of the healthy patients are ones with a higher max heart rate, while the sick patients seem to have a lower average max heart rate suggesting a correlation between heart rate and heart disease."
   ]
  },
  {
   "cell_type": "markdown",
   "id": "83323fcc-37e1-41b4-8ea7-d340b3735a73",
   "metadata": {},
   "source": [
    "### 3.6 Cholesterol and Heart Disease\n",
    "Higher cholesterol levels lead to deposits of fat building up in your arteries, which can create great difficulty with regard to the high-pressure blood flowing through these arteries. When these fatty deposits break apart, they can cause a heart attack (Pruthi, 2023). To plot this relationship we will make use of a scatter plot, with age once again on the x-axis and cholesterol on the y-axis."
   ]
  },
  {
   "cell_type": "code",
   "execution_count": null,
   "id": "50654c39-2f25-42be-8470-7dd34ed112ea",
   "metadata": {},
   "outputs": [],
   "source": [
    "age_and_cholesterol_plot <- heart_data_training |>\n",
    "    ggplot(aes(x = age, y = cholesterol, colour = as_factor(health))) +\n",
    "    geom_point() +\n",
    "    labs(title = \"Plot of Age and Cholesterol\", x = \"Age\", y = \"Cholesterol\", colour = \"Health\") +\n",
    "    scale_colour_discrete(labels = c(\"Healthy\", \"Sick\")) +\n",
    "    theme(text = element_text(size = 15), plot.title = element_text(hjust = 0.5))\n",
    "age_and_cholesterol_plot"
   ]
  },
  {
   "cell_type": "markdown",
   "id": "8dd72c5d-7a7a-4c2f-8732-8d44c1775f6d",
   "metadata": {},
   "source": [
    "From this plot, there is a very slight upward trend in the cholesterol levels in the patient, and the majority of sick patients have slightly higher cholesterol levels. However, it is typical for the cholesterol levels to increase slightly too, with some outliers.\n",
    "______________________________________________________________________________________________________________________________________________________"
   ]
  },
  {
   "cell_type": "markdown",
   "id": "baa79c12-c807-42c8-b2e7-0e5a12fab7fd",
   "metadata": {
    "jp-MarkdownHeadingCollapsed": true,
    "tags": []
   },
   "source": [
    "## 4. KNN Classification"
   ]
  },
  {
   "cell_type": "markdown",
   "id": "d8220501-c494-4f2e-9657-4f1d76fbd4a1",
   "metadata": {
    "tags": []
   },
   "source": [
    "### 4.1 Creating the Recipe and Conducting Cross Validation\n",
    "The first step in KNN classification is to create the recipe that will be used in the algorithm and model that we build to classify the testing data. This recipe determines which variables are the predictors, and which is the variable being predicted. In this step, the predictor variables are also stepped and centred, so that the Euclidean distance between the points isn’t affected by the varying units of measurement."
   ]
  },
  {
   "cell_type": "code",
   "execution_count": null,
   "id": "68c30883-6eb6-439e-9645-76ba4c788b93",
   "metadata": {},
   "outputs": [],
   "source": [
    "heart_recipe <- recipe(health ~ ., data = heart_data_training) |>\n",
    "    step_scale(all_predictors()) |>\n",
    "    step_center(all_predictors())\n",
    "heart_recipe"
   ]
  },
  {
   "cell_type": "markdown",
   "id": "e75ce6a1-e9a3-4491-ad97-d6b1dd20b0ef",
   "metadata": {},
   "source": [
    "Next, we will conduct cross-validation, with the `vfold` function, making use of 5 folds. We chose this number because with the number of points in the training data, 227, with 5 even splits of the data, enough data will be in each section, to act as the validating data when conducting cross-validation. Any higher would be too little data in each section, and any lower could result in less valid data."
   ]
  },
  {
   "cell_type": "code",
   "execution_count": null,
   "id": "acd4112e-8a05-4d5b-a682-3bba39ff2897",
   "metadata": {},
   "outputs": [],
   "source": [
    "set.seed(29) # do not change [use this seed throughout]\n",
    "\n",
    "heart_vfold <- vfold_cv(heart_data_training, v = 5, strata = health)"
   ]
  },
  {
   "cell_type": "markdown",
   "id": "4f8e3d96-e1bc-4e4f-a1da-c1f86d1456ec",
   "metadata": {
    "tags": []
   },
   "source": [
    "### 4.2 Tuning the Model\n",
    "To begin the KNN analysis on the recipe we have just created, we will create a model using the `tune()` function to find the optimal $k$-value, to classify our testing data correctly. We will set the engine to `“kknn”` and set the mode to `“classification”`. \n",
    "\n",
    "With this, we can then create a workflow, to tune the grid using the cross-validation from before, and then use `collect_metrics()` to collect the accuracy data and be able to visualise the different $k$-values that were tested."
   ]
  },
  {
   "cell_type": "code",
   "execution_count": null,
   "id": "a3585ee3-01c0-4cf4-a45b-4ee70bf786ff",
   "metadata": {},
   "outputs": [],
   "source": [
    "set.seed(29) # do not change [use this seed throughout]\n",
    "\n",
    "knn_tune <- nearest_neighbor(weight_func = \"rectangular\", neighbors = tune()) |>\n",
    "    set_engine(\"kknn\") |>\n",
    "    set_mode(\"classification\")\n",
    "knn_tune\n",
    "\n",
    "knn_results <- workflow() |>\n",
    "    add_recipe(heart_recipe) |>\n",
    "    add_model(knn_tune) |>\n",
    "    tune_grid(resamples = heart_vfold, grid = 10) |>\n",
    "    collect_metrics()\n",
    "knn_results"
   ]
  },
  {
   "cell_type": "markdown",
   "id": "16c40edc-4a63-41a5-b3c8-682cd4f6e927",
   "metadata": {
    "tags": []
   },
   "source": [
    "### 4.3 Selecting the Optimal $k$-value\n",
    "We can now filter, the data frame to only focus on those where the `.metric` column concerns the `\"accuracy\"` of the data, and then produce a line plot of the data. This will create what is known as an elbow graph, which will show where the accuracy peaks, allowing us to select the best $k$-value."
   ]
  },
  {
   "cell_type": "code",
   "execution_count": null,
   "id": "2f853bf4-bcda-41d3-9689-3678605a68a6",
   "metadata": {},
   "outputs": [],
   "source": [
    "accuracies <- knn_results |>\n",
    "    filter(.metric == \"accuracy\")\n",
    "\n",
    "accuracy_versus_k <- ggplot(accuracies, aes(x = neighbors, y = mean))+\n",
    "    geom_point() +\n",
    "    geom_line() +\n",
    "    labs(x = \"Neighbors\", y = \"Accuracy Estimate\") + \n",
    "    ggtitle(\"Plot of Neighbours and their Accuracy\") +\n",
    "    scale_x_continuous(breaks = seq(2, 14, by = 1)) +\n",
    "    theme(text = element_text(size = 15))\n",
    "accuracy_versus_k"
   ]
  },
  {
   "cell_type": "markdown",
   "id": "b6ce8d95-cd91-4997-b546-2143903feda5",
   "metadata": {},
   "source": [
    "From the graph above, there is a very distinct peak, which occurs when `k = 7` or `k = 8` neighbours, which means we must choose one of these values of $k$ to get the algorithm to be as good as it can be."
   ]
  },
  {
   "cell_type": "markdown",
   "id": "8be98cdd-944d-48f3-9cfe-fb79dfd64e7e",
   "metadata": {
    "tags": []
   },
   "source": [
    "### 4.4 Building the KNN Model\n",
    "Now that we have obtained the optimal $k$-values, we will create a new model named `knn_tuned_spec` making use of 7 neighbours. Then we can create the workflow that we will name `heart_tuned_fit`, which uses the `knn_tuned_spec` model."
   ]
  },
  {
   "cell_type": "code",
   "execution_count": null,
   "id": "26c451b4-ecf1-4b03-9360-c57ec109ed66",
   "metadata": {},
   "outputs": [],
   "source": [
    "set.seed(29) # do not change [use this seed throughout]\n",
    "\n",
    "knn_tuned_spec <- nearest_neighbor(weight_func = \"rectangular\", neighbors = 7) |>\n",
    "    set_engine(\"kknn\") |>\n",
    "    set_mode(\"classification\")\n",
    "\n",
    "heart_tuned_fit <- workflow() |>\n",
    "    add_recipe(heart_recipe) |>\n",
    "    add_model(knn_tuned_spec) |>\n",
    "    fit(data = heart_data_training)\n",
    "heart_tuned_fit"
   ]
  },
  {
   "cell_type": "markdown",
   "id": "8abde7a4-d493-4580-af2c-6e266afc17cb",
   "metadata": {},
   "source": [
    "### 4.5 Testing the Model and Calculating the Accuracy\n",
    "Finally, we are able to test the model that we have created with the testing data that we split during the initial stages of this analysis. First, we need to create a variable called `heart_predictions` that binds the predicted value column to the testing data, so that we can compare the `.pred_class` and `health` values.\n",
    "\n",
    "The `metrics()` function takes in the true values and compares them to the predicted values and produces an accuracy statistic. Additionally, we can also create a `conf_mat()`, which shows how many of each \"health\" value, the model predicted correctly."
   ]
  },
  {
   "cell_type": "code",
   "execution_count": null,
   "id": "c43db27d-b3fb-44cb-ac1d-94beca40abdc",
   "metadata": {},
   "outputs": [],
   "source": [
    "heart_predictions <- predict(heart_tuned_fit, heart_data_testing) |>\n",
    "    bind_cols(heart_data_testing)\n",
    "\n",
    "heart_metrics <- heart_predictions |>\n",
    "    metrics(truth = health, estimate = .pred_class)\n",
    "\n",
    "heart_conf_mat <- heart_predictions |>\n",
    "    conf_mat(truth = health, estimate = .pred_class)\n",
    "\n",
    "heart_predictions\n",
    "heart_metrics\n",
    "heart_conf_mat"
   ]
  },
  {
   "cell_type": "markdown",
   "id": "8386df7e-2338-4fcd-b1c7-1c8ae3ebceed",
   "metadata": {},
   "source": [
    "From the tables and data frames above, it can be seen that the model does a reasonable job with an 80.2% accuracy. It is not very inaccurate, but nonetheless, this wouldn’t be used as a reliable model to form predictions of whether a new patient's data means likely to contract heart disease or not.\n",
    "______________________________________________________________________________________________________________________________________________________"
   ]
  },
  {
   "cell_type": "markdown",
   "id": "2af41a58-a4af-40a8-8022-7f2067216fe4",
   "metadata": {
    "jp-MarkdownHeadingCollapsed": true,
    "tags": []
   },
   "source": [
    "## 5. Discussion"
   ]
  },
  {
   "cell_type": "markdown",
   "id": "6eaeac43-f836-40e6-9184-fc5f148e0f34",
   "metadata": {},
   "source": [
    "Through our initial analysis, this dataset suggests that men are more prone to developing heart disease than women, however, this could be affected by the fact that the majority of the patients in this dataset were male, so the samples weren’t the best for this comparison. We also were able to find that there is a correlation between some of the other factors such as the max heart rate and cholesterol, but some factors like chest pain showed that the majority of patients were asymptomatic.\n",
    " \n",
    "Our investigation found that the six different factors we chose could determine whether a person would have heart disease with an accuracy of 80.2%. We believe that if the data set contained more data, the model would be able to predict with a higher degree of accuracy. This analysis provides a good basis for creating a model to help people to prevent heart disease at an early stage. It can potentially prevent heart disease from developing entirely if they find, for instance, their resting blood pressure to be in a sort of \"danger\" zone in terms of contracting heart disease. \n",
    "\n",
    "For the future question, if we can do a good job of predicting patients through these six factors, we hope to be able to predict what type of disease, specifically, patients are going to get."
   ]
  },
  {
   "cell_type": "markdown",
   "id": "2f43364e-15cc-4b97-b963-03ce406b4f91",
   "metadata": {
    "jp-MarkdownHeadingCollapsed": true,
    "tags": []
   },
   "source": [
    "## 6. References"
   ]
  },
  {
   "cell_type": "markdown",
   "id": "ab82e9bb-7b28-40af-8539-0681cb34c2e3",
   "metadata": {},
   "source": [
    "Fallon, C. K. (2019). Husbands' hearts and women's health: Gender, age, and heart disease in twentiethcentury america. *Bulletin of the          History of Medicine, 93*(4), 577-609. https://doi.org/10.1353/bhm.2019.0073\n",
    "\n",
    "Kodali, S. K., Velagapudi, P., Hahn, R. T., Abbott, D., & Leon, M. B. (2018). Valvular heart disease in Patients ≥80 Years of age. *Journal of the American College of Cardiology, 71*(18), 2058-2072. https://doi.org/10.1016/j.jacc.2018.03.459\n",
    "\n",
    "Pruthi, S. (2023, January 11). *High cholesterol*. Mayo Clinic. Retrieved April 11, 2023, from https://www.mayoclinic.org/diseases-conditions/high-blood-cholesterol/symptoms-causes/syc-20350800."
   ]
  }
 ],
 "metadata": {
  "kernelspec": {
   "display_name": "R",
   "language": "R",
   "name": "ir"
  },
  "language_info": {
   "codemirror_mode": "r",
   "file_extension": ".r",
   "mimetype": "text/x-r-source",
   "name": "R",
   "pygments_lexer": "r",
   "version": "4.2.3"
  }
 },
 "nbformat": 4,
 "nbformat_minor": 5
}
