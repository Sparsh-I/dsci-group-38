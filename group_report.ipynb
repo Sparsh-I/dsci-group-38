{
 "cells": [
  {
   "cell_type": "markdown",
   "id": "828d09de-f7a8-4d37-a06f-d5c9448d0e9a",
   "metadata": {},
   "source": [
    "# Introduction\n",
    "\n",
    "**Inference Question**: How is the likelihood of contracting heart disease is impacted by 6 different health factors?\n",
    "\n",
    "**The Health Factors We Are Focusing On:**\n",
    "- age\n",
    "- sex\n",
    "- pain.type (type)\n",
    "- resting blood pressure, cholesterol, and max heart rate\n",
    "\n"
   ]
  },
  {
   "cell_type": "code",
   "execution_count": null,
   "id": "1095f998-5040-4811-af19-a6f88b0687cc",
   "metadata": {},
   "outputs": [],
   "source": []
  }
 ],
 "metadata": {
  "kernelspec": {
   "display_name": "R",
   "language": "R",
   "name": "ir"
  },
  "language_info": {
   "codemirror_mode": "r",
   "file_extension": ".r",
   "mimetype": "text/x-r-source",
   "name": "R",
   "pygments_lexer": "r",
   "version": "4.1.3"
  }
 },
 "nbformat": 4,
 "nbformat_minor": 5
}
