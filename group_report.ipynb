{
 "cells": [
  {
   "cell_type": "markdown",
   "id": "828d09de-f7a8-4d37-a06f-d5c9448d0e9a",
   "metadata": {},
   "source": [
    "# Introduction\n",
    "\n",
    "### Inference Question:\n",
    "How is the likelihood of contracting heart disease is impacted by 6 different health factors?\n",
    "\n",
    "### The Heart Disease Dataset\n",
    "The dataset that we will be using for this project is one related to heart disease and the factors that contribute towards it. Different factors such as blood pressure, cholesterol and even age can have great impacts on the risk of contracting heart disease and so this data set provides past details of patients with attributes they had and whether or not they were healthy or not. The link to this dataset is included below, but in this project we will be reading the data directly from the web, and so there is no need to have the file saved locally.\n",
    "\n",
    "https://archive.ics.uci.edu/ml/machine-learning-databases/heart-disease/\n",
    "\n",
    "From the above link, the data from the Cleveland dataset will be used. The original dataset contains 76 factors, however, the processed data, which is what will be used in our project, contains 14 factors. We will further filter this data to be the 6 factors that we will be examining, which are listed below.\n",
    "\n",
    "#### The Health Factors We Are Focusing On:\n",
    "- age -> the age of the patient\n",
    "- sex -> the sex of the patient\n",
    "- pain.type -> the type of pain experienced by the patient (angina [1], abnormal angina [2], not angina [3], or asymptomatic [4])\n",
    "- restbps -> the resting blood pressure of the patient\n",
    "- cholesterol -> the cholesterol level of the patient\n",
    "- maxbpm -> the maximum heart rate of the patient"
   ]
  },
  {
   "cell_type": "code",
   "execution_count": null,
   "id": "1095f998-5040-4811-af19-a6f88b0687cc",
   "metadata": {},
   "outputs": [],
   "source": []
  }
 ],
 "metadata": {
  "kernelspec": {
   "display_name": "R",
   "language": "R",
   "name": "ir"
  },
  "language_info": {
   "codemirror_mode": "r",
   "file_extension": ".r",
   "mimetype": "text/x-r-source",
   "name": "R",
   "pygments_lexer": "r",
   "version": "4.1.3"
  }
 },
 "nbformat": 4,
 "nbformat_minor": 5
}
