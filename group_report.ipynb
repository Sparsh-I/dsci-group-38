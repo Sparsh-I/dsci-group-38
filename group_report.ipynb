{
 "cells": [
  {
   "cell_type": "markdown",
   "id": "828d09de-f7a8-4d37-a06f-d5c9448d0e9a",
   "metadata": {},
   "source": [
    "# Introduction\n",
    "\n",
    "### Inference Question:\n",
    "How is the likelihood of contracting heart disease is impacted by 6 different health factors?\n",
    "\n",
    "### The Heart Disease Dataset\n",
    "The dataset that we will be using for this project is one related to heart disease and the factors that contribute towards it. Different factors such as blood pressure, cholesterol and even age can have great impacts on the risk of contracting heart disease and so this data set provides past details of patients with attributes they had and whether or not they were healthy or not. The link to this dataset is included below, but in this project we will be reading the data directly from the web, and so there is no need to have the file saved locally.\n",
    "\n",
    "https://archive.ics.uci.edu/ml/machine-learning-databases/heart-disease/\n",
    "\n",
    "From the above link, the data from the Cleveland dataset will be used. The original dataset contains 76 factors, however, the processed data, which is what will be used in our project, contains 14 factors. We will further filter this data to be the 6 factors that we will be examining, which are listed below.\n",
    "\n",
    "#### The Health Factors We Are Focusing On:\n",
    "- age -> the age of the patient\n",
    "- sex -> the sex of the patient\n",
    "- pain.type -> the type of pain experienced by the patient (angina [1], abnormal angina [2], not angina [3], or asymptomatic [4])\n",
    "- restbps -> the resting blood pressure of the patient\n",
    "- cholesterol -> the cholesterol level of the patient\n",
    "- maxbpm -> the maximum heart rate of the patient\n",
    "\n",
    "We have chosen these specific factors for our analysis, as these are the factors we think would have the greatest influence on whether or not a patient potentially has heart disease. We also think that that heart disease would affect the women more than the men, and thus have included the sex variable, to see if this hypothesis holds true. \n",
    "\n",
    "The factors that were omitted, were a boolean value of fasting blood sugar being less than 120, resting ecg, a boolean to determine if the angina was exercise induced, oldpeak, slope, number of vessels coloured, and thalassemia. Some of these predictors were excluded due to their uncertain nature, in terms of measurement units and missing data, such as the number of vessels coloured. One debatable predictor is the resting ecg, which measures the electrical activity in the heart, however we deemed that the resting blood pressure would be a better indicator of heart activity and decided to use that instead.\n",
    "______________________________________________________________________________________________________________________________________________________"
   ]
  },
  {
   "cell_type": "markdown",
   "id": "c9d9c5d0-33b9-4559-8480-29ee63972e65",
   "metadata": {},
   "source": [
    "# Wrangling the Data\n",
    "\n",
    "#### Loading Tidyverse\n",
    "First we need to load the tidyverse library into R so that it is possible to wrangle the data and only select the factors that we will be making use of in this project."
   ]
  },
  {
   "cell_type": "code",
   "execution_count": 2,
   "id": "5cc12e4d-1878-4a0a-a954-462495ecde9c",
   "metadata": {},
   "outputs": [
    {
     "name": "stderr",
     "output_type": "stream",
     "text": [
      "── \u001b[1mAttaching packages\u001b[22m ─────────────────────────────────────── tidyverse 1.3.1 ──\n",
      "\n",
      "\u001b[32m✔\u001b[39m \u001b[34mggplot2\u001b[39m 3.3.6     \u001b[32m✔\u001b[39m \u001b[34mpurrr  \u001b[39m 0.3.4\n",
      "\u001b[32m✔\u001b[39m \u001b[34mtibble \u001b[39m 3.1.7     \u001b[32m✔\u001b[39m \u001b[34mdplyr  \u001b[39m 1.0.9\n",
      "\u001b[32m✔\u001b[39m \u001b[34mtidyr  \u001b[39m 1.2.0     \u001b[32m✔\u001b[39m \u001b[34mstringr\u001b[39m 1.4.0\n",
      "\u001b[32m✔\u001b[39m \u001b[34mreadr  \u001b[39m 2.1.2     \u001b[32m✔\u001b[39m \u001b[34mforcats\u001b[39m 0.5.1\n",
      "\n",
      "── \u001b[1mConflicts\u001b[22m ────────────────────────────────────────── tidyverse_conflicts() ──\n",
      "\u001b[31m✖\u001b[39m \u001b[34mdplyr\u001b[39m::\u001b[32mfilter()\u001b[39m masks \u001b[34mstats\u001b[39m::filter()\n",
      "\u001b[31m✖\u001b[39m \u001b[34mdplyr\u001b[39m::\u001b[32mlag()\u001b[39m    masks \u001b[34mstats\u001b[39m::lag()\n",
      "\n",
      "── \u001b[1mAttaching packages\u001b[22m ────────────────────────────────────── tidymodels 1.0.0 ──\n",
      "\n",
      "\u001b[32m✔\u001b[39m \u001b[34mbroom       \u001b[39m 1.0.0     \u001b[32m✔\u001b[39m \u001b[34mrsample     \u001b[39m 1.0.0\n",
      "\u001b[32m✔\u001b[39m \u001b[34mdials       \u001b[39m 1.0.0     \u001b[32m✔\u001b[39m \u001b[34mtune        \u001b[39m 1.0.0\n",
      "\u001b[32m✔\u001b[39m \u001b[34minfer       \u001b[39m 1.0.2     \u001b[32m✔\u001b[39m \u001b[34mworkflows   \u001b[39m 1.0.0\n",
      "\u001b[32m✔\u001b[39m \u001b[34mmodeldata   \u001b[39m 1.0.0     \u001b[32m✔\u001b[39m \u001b[34mworkflowsets\u001b[39m 1.0.0\n",
      "\u001b[32m✔\u001b[39m \u001b[34mparsnip     \u001b[39m 1.0.0     \u001b[32m✔\u001b[39m \u001b[34myardstick   \u001b[39m 1.0.0\n",
      "\u001b[32m✔\u001b[39m \u001b[34mrecipes     \u001b[39m 1.0.1     \n",
      "\n",
      "── \u001b[1mConflicts\u001b[22m ───────────────────────────────────────── tidymodels_conflicts() ──\n",
      "\u001b[31m✖\u001b[39m \u001b[34mscales\u001b[39m::\u001b[32mdiscard()\u001b[39m masks \u001b[34mpurrr\u001b[39m::discard()\n",
      "\u001b[31m✖\u001b[39m \u001b[34mdplyr\u001b[39m::\u001b[32mfilter()\u001b[39m   masks \u001b[34mstats\u001b[39m::filter()\n",
      "\u001b[31m✖\u001b[39m \u001b[34mrecipes\u001b[39m::\u001b[32mfixed()\u001b[39m  masks \u001b[34mstringr\u001b[39m::fixed()\n",
      "\u001b[31m✖\u001b[39m \u001b[34mdplyr\u001b[39m::\u001b[32mlag()\u001b[39m      masks \u001b[34mstats\u001b[39m::lag()\n",
      "\u001b[31m✖\u001b[39m \u001b[34myardstick\u001b[39m::\u001b[32mspec()\u001b[39m masks \u001b[34mreadr\u001b[39m::spec()\n",
      "\u001b[31m✖\u001b[39m \u001b[34mrecipes\u001b[39m::\u001b[32mstep()\u001b[39m   masks \u001b[34mstats\u001b[39m::step()\n",
      "\u001b[34m•\u001b[39m Learn how to get started at \u001b[32mhttps://www.tidymodels.org/start/\u001b[39m\n",
      "\n"
     ]
    }
   ],
   "source": [
    "library(tidyverse)\n",
    "library(repr)\n",
    "library(tidymodels)\n",
    "options(repr.matrix.max.rows = 6)"
   ]
  },
  {
   "cell_type": "markdown",
   "id": "bbe5d6eb-1982-40e8-a886-22eecc80fbc3",
   "metadata": {},
   "source": [
    "#### Reading and Selecting the Data\n",
    "We can make use of the `read_csv` function to extract the data from the web, and since there are no column names in the dataset, we will have to set `col_names = FALSE` and make a vector with the desired column names.\n",
    "\n",
    "The dataset also classifies sick patients in three different categories, however for this analysis we will consider all of them as one category, and so we set the `health` column's values 2, 3, and 4, to 1 which signifies contracted-heart-disease, while 0 signifies a healthy patient. This allows us to more easily categorise whether or not the patient contracts a heart disease, regardless of the severity."
   ]
  },
  {
   "cell_type": "code",
   "execution_count": 3,
   "id": "76b6e8f3-099b-4897-84a0-26cc43ec05bb",
   "metadata": {},
   "outputs": [
    {
     "name": "stderr",
     "output_type": "stream",
     "text": [
      "\u001b[1mRows: \u001b[22m\u001b[34m303\u001b[39m \u001b[1mColumns: \u001b[22m\u001b[34m14\u001b[39m\n",
      "\u001b[36m──\u001b[39m \u001b[1mColumn specification\u001b[22m \u001b[36m────────────────────────────────────────────────────────\u001b[39m\n",
      "\u001b[1mDelimiter:\u001b[22m \",\"\n",
      "\u001b[31mchr\u001b[39m  (2): X12, X13\n",
      "\u001b[32mdbl\u001b[39m (12): X1, X2, X3, X4, X5, X6, X7, X8, X9, X10, X11, X14\n",
      "\n",
      "\u001b[36mℹ\u001b[39m Use `spec()` to retrieve the full column specification for this data.\n",
      "\u001b[36mℹ\u001b[39m Specify the column types or set `show_col_types = FALSE` to quiet this message.\n"
     ]
    },
    {
     "data": {
      "text/html": [
       "<table class=\"dataframe\">\n",
       "<caption>A tibble: 303 × 7</caption>\n",
       "<thead>\n",
       "\t<tr><th scope=col>age</th><th scope=col>sex</th><th scope=col>pain.type</th><th scope=col>restbps</th><th scope=col>cholesterol</th><th scope=col>maxbpm</th><th scope=col>health</th></tr>\n",
       "\t<tr><th scope=col>&lt;dbl&gt;</th><th scope=col>&lt;dbl&gt;</th><th scope=col>&lt;dbl&gt;</th><th scope=col>&lt;dbl&gt;</th><th scope=col>&lt;dbl&gt;</th><th scope=col>&lt;dbl&gt;</th><th scope=col>&lt;dbl&gt;</th></tr>\n",
       "</thead>\n",
       "<tbody>\n",
       "\t<tr><td>63</td><td>1</td><td>1</td><td>145</td><td>233</td><td>150</td><td>0</td></tr>\n",
       "\t<tr><td>67</td><td>1</td><td>4</td><td>160</td><td>286</td><td>108</td><td>1</td></tr>\n",
       "\t<tr><td>67</td><td>1</td><td>4</td><td>120</td><td>229</td><td>129</td><td>1</td></tr>\n",
       "\t<tr><td>⋮</td><td>⋮</td><td>⋮</td><td>⋮</td><td>⋮</td><td>⋮</td><td>⋮</td></tr>\n",
       "\t<tr><td>57</td><td>1</td><td>4</td><td>130</td><td>131</td><td>115</td><td>1</td></tr>\n",
       "\t<tr><td>57</td><td>0</td><td>2</td><td>130</td><td>236</td><td>174</td><td>1</td></tr>\n",
       "\t<tr><td>38</td><td>1</td><td>3</td><td>138</td><td>175</td><td>173</td><td>0</td></tr>\n",
       "</tbody>\n",
       "</table>\n"
      ],
      "text/latex": [
       "A tibble: 303 × 7\n",
       "\\begin{tabular}{lllllll}\n",
       " age & sex & pain.type & restbps & cholesterol & maxbpm & health\\\\\n",
       " <dbl> & <dbl> & <dbl> & <dbl> & <dbl> & <dbl> & <dbl>\\\\\n",
       "\\hline\n",
       "\t 63 & 1 & 1 & 145 & 233 & 150 & 0\\\\\n",
       "\t 67 & 1 & 4 & 160 & 286 & 108 & 1\\\\\n",
       "\t 67 & 1 & 4 & 120 & 229 & 129 & 1\\\\\n",
       "\t ⋮ & ⋮ & ⋮ & ⋮ & ⋮ & ⋮ & ⋮\\\\\n",
       "\t 57 & 1 & 4 & 130 & 131 & 115 & 1\\\\\n",
       "\t 57 & 0 & 2 & 130 & 236 & 174 & 1\\\\\n",
       "\t 38 & 1 & 3 & 138 & 175 & 173 & 0\\\\\n",
       "\\end{tabular}\n"
      ],
      "text/markdown": [
       "\n",
       "A tibble: 303 × 7\n",
       "\n",
       "| age &lt;dbl&gt; | sex &lt;dbl&gt; | pain.type &lt;dbl&gt; | restbps &lt;dbl&gt; | cholesterol &lt;dbl&gt; | maxbpm &lt;dbl&gt; | health &lt;dbl&gt; |\n",
       "|---|---|---|---|---|---|---|\n",
       "| 63 | 1 | 1 | 145 | 233 | 150 | 0 |\n",
       "| 67 | 1 | 4 | 160 | 286 | 108 | 1 |\n",
       "| 67 | 1 | 4 | 120 | 229 | 129 | 1 |\n",
       "| ⋮ | ⋮ | ⋮ | ⋮ | ⋮ | ⋮ | ⋮ |\n",
       "| 57 | 1 | 4 | 130 | 131 | 115 | 1 |\n",
       "| 57 | 0 | 2 | 130 | 236 | 174 | 1 |\n",
       "| 38 | 1 | 3 | 138 | 175 | 173 | 0 |\n",
       "\n"
      ],
      "text/plain": [
       "    age sex pain.type restbps cholesterol maxbpm health\n",
       "1   63  1   1         145     233         150    0     \n",
       "2   67  1   4         160     286         108    1     \n",
       "3   67  1   4         120     229         129    1     \n",
       "⋮   ⋮   ⋮   ⋮         ⋮       ⋮           ⋮      ⋮     \n",
       "301 57  1   4         130     131         115    1     \n",
       "302 57  0   2         130     236         174    1     \n",
       "303 38  1   3         138     175         173    0     "
      ]
     },
     "metadata": {},
     "output_type": "display_data"
    }
   ],
   "source": [
    "heart_data<- read_csv(url(\"https://archive.ics.uci.edu/ml/machine-learning-databases/heart-disease/processed.cleveland.data\"), col_names = FALSE) |>\n",
    "    select(X1, X2, X3, X4, X5, X8, X14)\n",
    "colnames(heart_data) <- make.names(c(\"age\", \"sex\", \"pain.type\", \"restbps\", \"cholesterol\", \"maxbpm\", \"health\"))\n",
    "\n",
    "heart_data[\"health\"][heart_data[\"health\"] == 2 | heart_data[\"health\"] == 3 | heart_data[\"health\"] == 4] <- 1\n",
    "heart_data"
   ]
  },
  {
   "cell_type": "markdown",
   "id": "7ca80ddc-7eb2-4690-a83e-c2ad967f2979",
   "metadata": {},
   "source": [
    "To more clearly see why we've decided to group all the sick patients together, we have created a table below to show how the data is split, and that if there were 4 different categories of sickness it would create unnecessary confusion and problems."
   ]
  },
  {
   "cell_type": "code",
   "execution_count": 4,
   "id": "b1c7d655-2054-4239-9a06-17957c4554ac",
   "metadata": {},
   "outputs": [
    {
     "data": {
      "text/html": [
       "'# of Patients with and without Heart Disease'"
      ],
      "text/latex": [
       "'\\# of Patients with and without Heart Disease'"
      ],
      "text/markdown": [
       "'# of Patients with and without Heart Disease'"
      ],
      "text/plain": [
       "[1] \"# of Patients with and without Heart Disease\""
      ]
     },
     "metadata": {},
     "output_type": "display_data"
    },
    {
     "data": {
      "text/plain": [
       "\n",
       "Healthy    Sick \n",
       "    164     139 "
      ]
     },
     "metadata": {},
     "output_type": "display_data"
    }
   ],
   "source": [
    "health_freq <- table(heart_data$health)\n",
    "rownames(health_freq) = c(\"Healthy\", \"Sick\")\n",
    "\"# of Patients with and without Heart Disease\"\n",
    "health_freq"
   ]
  },
  {
   "cell_type": "markdown",
   "id": "c06578c0-3f66-4843-a76f-e6df2e538fb3",
   "metadata": {},
   "source": [
    "# Analysis of Data\n",
    "\n",
    "#### Splitting the Dataset into Training and Testing Data\n",
    "We have chosen to select 75% of the data to be in the training data, while the other 25% will be used as testing data later on. We have also selected a seed to use, so that the results are reproducible in the future."
   ]
  },
  {
   "cell_type": "code",
   "execution_count": 5,
   "id": "a7f4b5d1-63c5-4623-be19-b4f81eecc099",
   "metadata": {},
   "outputs": [],
   "source": [
    "set.seed(1234)\n",
    "\n",
    "heart_data_split <- initial_split(heart_data, prop = 0.75, strata = health)\n",
    "heart_data_training <- training(heart_data_split)"
   ]
  },
  {
   "cell_type": "code",
   "execution_count": null,
   "id": "c47b9ece-b768-475a-b40a-2dff08cfa15a",
   "metadata": {},
   "outputs": [],
   "source": []
  }
 ],
 "metadata": {
  "kernelspec": {
   "display_name": "R",
   "language": "R",
   "name": "ir"
  },
  "language_info": {
   "codemirror_mode": "r",
   "file_extension": ".r",
   "mimetype": "text/x-r-source",
   "name": "R",
   "pygments_lexer": "r",
   "version": "4.1.3"
  }
 },
 "nbformat": 4,
 "nbformat_minor": 5
}
